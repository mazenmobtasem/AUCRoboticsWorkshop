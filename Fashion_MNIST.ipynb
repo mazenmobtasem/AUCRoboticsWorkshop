{
  "nbformat": 4,
  "nbformat_minor": 0,
  "metadata": {
    "colab": {
      "name": "Fashion MNIST.ipynb",
      "provenance": []
    },
    "kernelspec": {
      "name": "python3",
      "display_name": "Python 3"
    },
    "language_info": {
      "name": "python"
    },
    "accelerator": "GPU"
  },
  "cells": [
    {
      "cell_type": "code",
      "metadata": {
        "id": "PZSOFG2zEDkC"
      },
      "source": [
        ""
      ],
      "execution_count": null,
      "outputs": []
    },
    {
      "cell_type": "code",
      "metadata": {
        "id": "Zv9egT8oY-XI"
      },
      "source": [
        "import tensorflow as tf \n",
        "\n",
        "(train_images, train_labels), (test_images, test_labels) = tf.keras.datasets.fashion_mnist.load_data()\n",
        "\n",
        "class_names = ['T-shirt/top', 'Trouser', 'Pullover', 'Dress', 'Coat',\n",
        "               'Sandal', 'Shirt', 'Sneaker', 'Bag', 'Ankle boot']"
      ],
      "execution_count": null,
      "outputs": []
    },
    {
      "cell_type": "code",
      "metadata": {
        "colab": {
          "base_uri": "https://localhost:8080/",
          "height": 265
        },
        "id": "BiXZYXMXi9Dn",
        "outputId": "f675de64-e128-4a7b-ea3c-74678900bb79"
      },
      "source": [
        "import matplotlib.pyplot as plt\n",
        "plt.figure()\n",
        "plt.imshow(train_images[0])\n",
        "#plt.colorbar()\n",
        "plt.grid(False)\n",
        "plt.show()\n"
      ],
      "execution_count": null,
      "outputs": [
        {
          "output_type": "display_data",
          "data": {
            "image/png": "[encoded data removed]",
            "text/plain": [
              "<Figure size 432x288 with 1 Axes>"
            ]
          },
          "metadata": {
            "tags": [],
            "needs_background": "light"
          }
        }
      ]
    },
    {
      "cell_type": "code",
      "metadata": {
        "colab": {
          "base_uri": "https://localhost:8080/"
        },
        "id": "RBgSAwiqdFxF",
        "outputId": "497bf4e9-7c0c-4ddb-ffdd-923b1c5cdc65"
      },
      "source": [
        "from tensorflow.keras.models import Model\n",
        "from tensorflow.keras.layers import Input, Dense, Flatten\n",
        "from tensorflow.keras.optimizers import Adam\n",
        "from tensorflow.keras.metrics import Accuracy\n",
        "from tensorflow.keras.callbacks import EarlyStopping, LearningRateScheduler\n",
        "\n",
        "train_images = train_images / 255.0\n",
        "\n",
        "train_validated_images = train_images[:int(len(train_images)*0.7)]\n",
        "train_validated_labels = train_labels[:int(len(train_images)*0.7)]\n",
        "\n",
        "val_images = train_images[int(len(train_images)*0.7):]\n",
        "val_labels = train_labels[int(len(train_images)*0.7):]\n",
        "\n",
        "test_images = test_images / 255.0\n",
        "\n",
        "input_layer = Input(shape=(28,28))\n",
        "flat_layer = Flatten(input_shape=(28, 28))(input_layer)\n",
        "dense_4 = Dense(100,activation=\"relu\")(flat_layer)\n",
        "output = Dense(10, activation=\"softmax\")(dense_4)\n",
        "\n",
        "model = Model(input_layer, output)\n",
        "early_stopping = EarlyStopping(\n",
        "    monitor=\"val_loss\",\n",
        "    min_delta=0,\n",
        "    patience=10,\n",
        "    verbose=0,\n",
        "    mode=\"auto\",\n",
        "    baseline=None,\n",
        "    restore_best_weights=True,\n",
        ")\n",
        "\n",
        "model.compile(optimizer=\"adam\",\n",
        "                loss=tf.keras.losses.SparseCategoricalCrossentropy(from_logits=False), \n",
        "              metrics=[\"accuracy\"])\n",
        "model.fit(x=train_validated_images, y=train_validated_labels,validation_data=(val_images, val_labels), batch_size=32, epochs=100, callbacks=[early_stopping])\n",
        "\n"
      ],
      "execution_count": null,
      "outputs": [
        {
          "output_type": "stream",
          "text": [
            "Epoch 1/100\n",
            "1313/1313 [==============================] - 5s 4ms/step - loss: 1.6957 - accuracy: 0.4939 - val_loss: 0.8225 - val_accuracy: 0.7244\n",
            "Epoch 2/100\n",
            "1313/1313 [==============================] - 5s 4ms/step - loss: 0.7702 - accuracy: 0.7347 - val_loss: 0.6639 - val_accuracy: 0.7606\n",
            "Epoch 3/100\n",
            "1313/1313 [==============================] - 5s 4ms/step - loss: 0.6451 - accuracy: 0.7676 - val_loss: 0.6047 - val_accuracy: 0.7828\n",
            "Epoch 4/100\n",
            "1313/1313 [==============================] - 5s 4ms/step - loss: 0.5816 - accuracy: 0.7902 - val_loss: 0.5662 - val_accuracy: 0.7987\n",
            "Epoch 5/100\n",
            "1313/1313 [==============================] - 5s 4ms/step - loss: 0.5531 - accuracy: 0.8042 - val_loss: 0.5374 - val_accuracy: 0.8079\n",
            "Epoch 6/100\n",
            "1313/1313 [==============================] - 5s 4ms/step - loss: 0.5297 - accuracy: 0.8147 - val_loss: 0.5165 - val_accuracy: 0.8142\n",
            "Epoch 7/100\n",
            "1313/1313 [==============================] - 5s 3ms/step - loss: 0.5105 - accuracy: 0.8200 - val_loss: 0.5021 - val_accuracy: 0.8223\n",
            "Epoch 8/100\n",
            "1313/1313 [==============================] - 5s 4ms/step - loss: 0.4890 - accuracy: 0.8296 - val_loss: 0.4858 - val_accuracy: 0.8290\n",
            "Epoch 9/100\n",
            "1313/1313 [==============================] - 5s 4ms/step - loss: 0.4766 - accuracy: 0.8343 - val_loss: 0.4802 - val_accuracy: 0.8282\n",
            "Epoch 10/100\n",
            "1313/1313 [==============================] - 5s 4ms/step - loss: 0.4596 - accuracy: 0.8394 - val_loss: 0.4682 - val_accuracy: 0.8360\n",
            "Epoch 11/100\n",
            "1313/1313 [==============================] - 5s 3ms/step - loss: 0.4563 - accuracy: 0.8417 - val_loss: 0.4635 - val_accuracy: 0.8376\n",
            "Epoch 12/100\n",
            "1313/1313 [==============================] - 5s 4ms/step - loss: 0.4490 - accuracy: 0.8440 - val_loss: 0.4548 - val_accuracy: 0.8383\n",
            "Epoch 13/100\n",
            "1313/1313 [==============================] - 5s 4ms/step - loss: 0.4509 - accuracy: 0.8409 - val_loss: 0.4542 - val_accuracy: 0.8392\n",
            "Epoch 14/100\n",
            "1313/1313 [==============================] - 5s 4ms/step - loss: 0.4423 - accuracy: 0.8438 - val_loss: 0.4491 - val_accuracy: 0.8398\n",
            "Epoch 15/100\n",
            "1313/1313 [==============================] - 5s 4ms/step - loss: 0.4342 - accuracy: 0.8475 - val_loss: 0.4408 - val_accuracy: 0.8451\n",
            "Epoch 16/100\n",
            "1313/1313 [==============================] - 5s 4ms/step - loss: 0.4284 - accuracy: 0.8483 - val_loss: 0.4363 - val_accuracy: 0.8469\n",
            "Epoch 17/100\n",
            "1313/1313 [==============================] - 5s 4ms/step - loss: 0.4233 - accuracy: 0.8517 - val_loss: 0.4379 - val_accuracy: 0.8448\n",
            "Epoch 18/100\n",
            "1313/1313 [==============================] - 5s 3ms/step - loss: 0.4211 - accuracy: 0.8490 - val_loss: 0.4305 - val_accuracy: 0.8487\n",
            "Epoch 19/100\n",
            "1313/1313 [==============================] - 5s 4ms/step - loss: 0.4173 - accuracy: 0.8532 - val_loss: 0.4287 - val_accuracy: 0.8498\n",
            "Epoch 20/100\n",
            "1313/1313 [==============================] - 5s 3ms/step - loss: 0.4164 - accuracy: 0.8538 - val_loss: 0.4207 - val_accuracy: 0.8528\n",
            "Epoch 21/100\n",
            "1313/1313 [==============================] - 5s 4ms/step - loss: 0.4111 - accuracy: 0.8559 - val_loss: 0.4190 - val_accuracy: 0.8538\n",
            "Epoch 22/100\n",
            "1313/1313 [==============================] - 5s 3ms/step - loss: 0.4063 - accuracy: 0.8559 - val_loss: 0.4210 - val_accuracy: 0.8508\n",
            "Epoch 23/100\n",
            "1313/1313 [==============================] - 5s 4ms/step - loss: 0.4028 - accuracy: 0.8573 - val_loss: 0.4143 - val_accuracy: 0.8549\n",
            "Epoch 24/100\n",
            "1313/1313 [==============================] - 5s 4ms/step - loss: 0.3986 - accuracy: 0.8594 - val_loss: 0.4141 - val_accuracy: 0.8548\n",
            "Epoch 25/100\n",
            "1313/1313 [==============================] - 5s 4ms/step - loss: 0.3949 - accuracy: 0.8605 - val_loss: 0.4131 - val_accuracy: 0.8563\n",
            "Epoch 26/100\n",
            "1313/1313 [==============================] - 5s 3ms/step - loss: 0.3872 - accuracy: 0.8622 - val_loss: 0.4077 - val_accuracy: 0.8573\n",
            "Epoch 27/100\n",
            "1313/1313 [==============================] - 5s 4ms/step - loss: 0.3850 - accuracy: 0.8648 - val_loss: 0.4107 - val_accuracy: 0.8552\n",
            "Epoch 28/100\n",
            "1313/1313 [==============================] - 5s 4ms/step - loss: 0.3849 - accuracy: 0.8622 - val_loss: 0.4025 - val_accuracy: 0.8587\n",
            "Epoch 29/100\n",
            "1313/1313 [==============================] - 5s 4ms/step - loss: 0.3879 - accuracy: 0.8623 - val_loss: 0.4014 - val_accuracy: 0.8595\n",
            "Epoch 30/100\n",
            "1313/1313 [==============================] - 5s 4ms/step - loss: 0.3822 - accuracy: 0.8668 - val_loss: 0.4057 - val_accuracy: 0.8567\n",
            "Epoch 31/100\n",
            "1313/1313 [==============================] - 5s 4ms/step - loss: 0.3812 - accuracy: 0.8671 - val_loss: 0.3978 - val_accuracy: 0.8609\n",
            "Epoch 32/100\n",
            "1313/1313 [==============================] - 5s 4ms/step - loss: 0.3810 - accuracy: 0.8655 - val_loss: 0.3969 - val_accuracy: 0.8596\n",
            "Epoch 33/100\n",
            "1313/1313 [==============================] - 5s 4ms/step - loss: 0.3730 - accuracy: 0.8691 - val_loss: 0.3968 - val_accuracy: 0.8619\n",
            "Epoch 34/100\n",
            "1313/1313 [==============================] - 5s 4ms/step - loss: 0.3737 - accuracy: 0.8682 - val_loss: 0.3951 - val_accuracy: 0.8600\n",
            "Epoch 35/100\n",
            "1313/1313 [==============================] - 5s 3ms/step - loss: 0.3768 - accuracy: 0.8661 - val_loss: 0.3924 - val_accuracy: 0.8620\n",
            "Epoch 36/100\n",
            "1313/1313 [==============================] - 5s 3ms/step - loss: 0.3666 - accuracy: 0.8696 - val_loss: 0.3937 - val_accuracy: 0.8618\n",
            "Epoch 37/100\n",
            "1313/1313 [==============================] - 5s 4ms/step - loss: 0.3646 - accuracy: 0.8701 - val_loss: 0.3969 - val_accuracy: 0.8587\n",
            "Epoch 38/100\n",
            "1313/1313 [==============================] - 5s 4ms/step - loss: 0.3700 - accuracy: 0.8702 - val_loss: 0.3877 - val_accuracy: 0.8649\n",
            "Epoch 39/100\n",
            "1313/1313 [==============================] - 5s 4ms/step - loss: 0.3708 - accuracy: 0.8705 - val_loss: 0.3887 - val_accuracy: 0.8633\n",
            "Epoch 40/100\n",
            "1313/1313 [==============================] - 5s 4ms/step - loss: 0.3574 - accuracy: 0.8733 - val_loss: 0.3871 - val_accuracy: 0.8642\n",
            "Epoch 41/100\n",
            "1313/1313 [==============================] - 5s 4ms/step - loss: 0.3654 - accuracy: 0.8701 - val_loss: 0.3871 - val_accuracy: 0.8637\n",
            "Epoch 42/100\n",
            "1313/1313 [==============================] - 5s 4ms/step - loss: 0.3558 - accuracy: 0.8727 - val_loss: 0.3871 - val_accuracy: 0.8621\n",
            "Epoch 43/100\n",
            "1313/1313 [==============================] - 5s 4ms/step - loss: 0.3565 - accuracy: 0.8735 - val_loss: 0.3842 - val_accuracy: 0.8654\n",
            "Epoch 44/100\n",
            "1313/1313 [==============================] - 5s 4ms/step - loss: 0.3454 - accuracy: 0.8781 - val_loss: 0.3833 - val_accuracy: 0.8661\n",
            "Epoch 45/100\n",
            "1313/1313 [==============================] - 5s 4ms/step - loss: 0.3530 - accuracy: 0.8733 - val_loss: 0.3831 - val_accuracy: 0.8656\n",
            "Epoch 46/100\n",
            "1313/1313 [==============================] - 5s 4ms/step - loss: 0.3525 - accuracy: 0.8758 - val_loss: 0.3889 - val_accuracy: 0.8634\n",
            "Epoch 47/100\n",
            "1313/1313 [==============================] - 5s 4ms/step - loss: 0.3483 - accuracy: 0.8753 - val_loss: 0.3771 - val_accuracy: 0.8679\n",
            "Epoch 48/100\n",
            "1313/1313 [==============================] - 5s 4ms/step - loss: 0.3463 - accuracy: 0.8754 - val_loss: 0.3801 - val_accuracy: 0.8669\n",
            "Epoch 49/100\n",
            "1313/1313 [==============================] - 5s 4ms/step - loss: 0.3459 - accuracy: 0.8777 - val_loss: 0.3774 - val_accuracy: 0.8670\n",
            "Epoch 50/100\n",
            "1313/1313 [==============================] - 5s 4ms/step - loss: 0.3479 - accuracy: 0.8764 - val_loss: 0.3742 - val_accuracy: 0.8692\n",
            "Epoch 51/100\n",
            "1313/1313 [==============================] - 5s 4ms/step - loss: 0.3449 - accuracy: 0.8772 - val_loss: 0.3755 - val_accuracy: 0.8678\n",
            "Epoch 52/100\n",
            "1313/1313 [==============================] - 5s 4ms/step - loss: 0.3437 - accuracy: 0.8772 - val_loss: 0.3761 - val_accuracy: 0.8664\n",
            "Epoch 53/100\n",
            "1313/1313 [==============================] - 5s 4ms/step - loss: 0.3381 - accuracy: 0.8811 - val_loss: 0.3773 - val_accuracy: 0.8672\n",
            "Epoch 54/100\n",
            "1313/1313 [==============================] - 5s 4ms/step - loss: 0.3430 - accuracy: 0.8763 - val_loss: 0.3726 - val_accuracy: 0.8708\n",
            "Epoch 55/100\n",
            "1313/1313 [==============================] - 5s 4ms/step - loss: 0.3363 - accuracy: 0.8788 - val_loss: 0.3708 - val_accuracy: 0.8695\n",
            "Epoch 56/100\n",
            "1313/1313 [==============================] - 5s 4ms/step - loss: 0.3366 - accuracy: 0.8806 - val_loss: 0.3721 - val_accuracy: 0.8697\n",
            "Epoch 57/100\n",
            "1313/1313 [==============================] - 5s 4ms/step - loss: 0.3317 - accuracy: 0.8822 - val_loss: 0.3696 - val_accuracy: 0.8697\n",
            "Epoch 58/100\n",
            "1313/1313 [==============================] - 5s 4ms/step - loss: 0.3332 - accuracy: 0.8804 - val_loss: 0.3702 - val_accuracy: 0.8694\n",
            "Epoch 59/100\n",
            "1313/1313 [==============================] - 5s 4ms/step - loss: 0.3350 - accuracy: 0.8815 - val_loss: 0.3699 - val_accuracy: 0.8702\n",
            "Epoch 60/100\n",
            "1313/1313 [==============================] - 5s 4ms/step - loss: 0.3300 - accuracy: 0.8840 - val_loss: 0.3660 - val_accuracy: 0.8722\n",
            "Epoch 61/100\n",
            "1313/1313 [==============================] - 5s 4ms/step - loss: 0.3404 - accuracy: 0.8804 - val_loss: 0.3648 - val_accuracy: 0.8719\n",
            "Epoch 62/100\n",
            "1313/1313 [==============================] - 5s 4ms/step - loss: 0.3290 - accuracy: 0.8830 - val_loss: 0.3647 - val_accuracy: 0.8723\n",
            "Epoch 63/100\n",
            "1313/1313 [==============================] - 5s 4ms/step - loss: 0.3243 - accuracy: 0.8841 - val_loss: 0.3654 - val_accuracy: 0.8720\n",
            "Epoch 64/100\n",
            "1313/1313 [==============================] - 5s 4ms/step - loss: 0.3300 - accuracy: 0.8792 - val_loss: 0.3650 - val_accuracy: 0.8729\n",
            "Epoch 65/100\n",
            "1313/1313 [==============================] - 5s 4ms/step - loss: 0.3246 - accuracy: 0.8831 - val_loss: 0.3644 - val_accuracy: 0.8724\n",
            "Epoch 66/100\n",
            "1313/1313 [==============================] - 5s 4ms/step - loss: 0.3244 - accuracy: 0.8840 - val_loss: 0.3632 - val_accuracy: 0.8724\n",
            "Epoch 67/100\n",
            "1313/1313 [==============================] - 5s 4ms/step - loss: 0.3238 - accuracy: 0.8829 - val_loss: 0.3644 - val_accuracy: 0.8721\n",
            "Epoch 68/100\n",
            "1313/1313 [==============================] - 5s 4ms/step - loss: 0.3193 - accuracy: 0.8844 - val_loss: 0.3639 - val_accuracy: 0.8717\n",
            "Epoch 69/100\n",
            "1313/1313 [==============================] - 5s 4ms/step - loss: 0.3195 - accuracy: 0.8846 - val_loss: 0.3614 - val_accuracy: 0.8727\n",
            "Epoch 70/100\n",
            "1313/1313 [==============================] - 5s 4ms/step - loss: 0.3196 - accuracy: 0.8852 - val_loss: 0.3623 - val_accuracy: 0.8745\n",
            "Epoch 71/100\n",
            "1313/1313 [==============================] - 5s 4ms/step - loss: 0.3200 - accuracy: 0.8831 - val_loss: 0.3597 - val_accuracy: 0.8741\n",
            "Epoch 72/100\n",
            "1313/1313 [==============================] - 5s 3ms/step - loss: 0.3187 - accuracy: 0.8878 - val_loss: 0.3622 - val_accuracy: 0.8743\n",
            "Epoch 73/100\n",
            "1313/1313 [==============================] - 5s 4ms/step - loss: 0.3177 - accuracy: 0.8855 - val_loss: 0.3595 - val_accuracy: 0.8737\n",
            "Epoch 74/100\n",
            "1313/1313 [==============================] - 5s 4ms/step - loss: 0.3229 - accuracy: 0.8827 - val_loss: 0.3580 - val_accuracy: 0.8737\n",
            "Epoch 75/100\n",
            "1313/1313 [==============================] - 5s 3ms/step - loss: 0.3128 - accuracy: 0.8865 - val_loss: 0.3603 - val_accuracy: 0.8725\n",
            "Epoch 76/100\n",
            "1313/1313 [==============================] - 5s 4ms/step - loss: 0.3140 - accuracy: 0.8877 - val_loss: 0.3612 - val_accuracy: 0.8713\n",
            "Epoch 77/100\n",
            "1313/1313 [==============================] - 5s 4ms/step - loss: 0.3055 - accuracy: 0.8909 - val_loss: 0.3584 - val_accuracy: 0.8735\n",
            "Epoch 78/100\n",
            "1313/1313 [==============================] - 5s 4ms/step - loss: 0.3080 - accuracy: 0.8882 - val_loss: 0.3582 - val_accuracy: 0.8749\n",
            "Epoch 79/100\n",
            "1313/1313 [==============================] - 5s 4ms/step - loss: 0.3103 - accuracy: 0.8859 - val_loss: 0.3571 - val_accuracy: 0.8730\n",
            "Epoch 80/100\n",
            "1313/1313 [==============================] - 5s 3ms/step - loss: 0.3028 - accuracy: 0.8904 - val_loss: 0.3567 - val_accuracy: 0.8724\n",
            "Epoch 81/100\n",
            "1313/1313 [==============================] - 5s 4ms/step - loss: 0.3049 - accuracy: 0.8925 - val_loss: 0.3615 - val_accuracy: 0.8711\n",
            "Epoch 82/100\n",
            "1313/1313 [==============================] - 5s 4ms/step - loss: 0.3002 - accuracy: 0.8912 - val_loss: 0.3572 - val_accuracy: 0.8744\n",
            "Epoch 83/100\n",
            "1313/1313 [==============================] - 5s 4ms/step - loss: 0.3011 - accuracy: 0.8911 - val_loss: 0.3546 - val_accuracy: 0.8760\n",
            "Epoch 84/100\n",
            "1313/1313 [==============================] - 5s 4ms/step - loss: 0.3022 - accuracy: 0.8908 - val_loss: 0.3561 - val_accuracy: 0.8759\n",
            "Epoch 85/100\n",
            "1313/1313 [==============================] - 5s 3ms/step - loss: 0.2989 - accuracy: 0.8926 - val_loss: 0.3658 - val_accuracy: 0.8690\n",
            "Epoch 86/100\n",
            "1313/1313 [==============================] - 5s 3ms/step - loss: 0.2964 - accuracy: 0.8938 - val_loss: 0.3513 - val_accuracy: 0.8761\n",
            "Epoch 87/100\n",
            "1313/1313 [==============================] - 5s 4ms/step - loss: 0.3008 - accuracy: 0.8935 - val_loss: 0.3562 - val_accuracy: 0.8742\n",
            "Epoch 88/100\n",
            "1313/1313 [==============================] - 5s 4ms/step - loss: 0.2998 - accuracy: 0.8935 - val_loss: 0.3593 - val_accuracy: 0.8726\n",
            "Epoch 89/100\n",
            "1313/1313 [==============================] - 5s 4ms/step - loss: 0.2954 - accuracy: 0.8945 - val_loss: 0.3554 - val_accuracy: 0.8730\n",
            "Epoch 90/100\n",
            "1313/1313 [==============================] - 5s 4ms/step - loss: 0.2949 - accuracy: 0.8933 - val_loss: 0.3521 - val_accuracy: 0.8766\n",
            "Epoch 91/100\n",
            "1313/1313 [==============================] - 5s 4ms/step - loss: 0.2952 - accuracy: 0.8948 - val_loss: 0.3516 - val_accuracy: 0.8766\n",
            "Epoch 92/100\n",
            "1313/1313 [==============================] - 5s 4ms/step - loss: 0.2956 - accuracy: 0.8928 - val_loss: 0.3495 - val_accuracy: 0.8774\n",
            "Epoch 93/100\n",
            "1313/1313 [==============================] - 5s 4ms/step - loss: 0.2954 - accuracy: 0.8926 - val_loss: 0.3528 - val_accuracy: 0.8781\n",
            "Epoch 94/100\n",
            "1313/1313 [==============================] - 5s 4ms/step - loss: 0.2938 - accuracy: 0.8950 - val_loss: 0.3538 - val_accuracy: 0.8750\n",
            "Epoch 95/100\n",
            "1313/1313 [==============================] - 5s 4ms/step - loss: 0.2839 - accuracy: 0.8977 - val_loss: 0.3499 - val_accuracy: 0.8777\n",
            "Epoch 96/100\n",
            "1313/1313 [==============================] - 5s 4ms/step - loss: 0.2889 - accuracy: 0.8963 - val_loss: 0.3487 - val_accuracy: 0.8766\n",
            "Epoch 97/100\n",
            "1313/1313 [==============================] - 5s 4ms/step - loss: 0.2931 - accuracy: 0.8949 - val_loss: 0.3513 - val_accuracy: 0.8752\n",
            "Epoch 98/100\n",
            "1313/1313 [==============================] - 5s 4ms/step - loss: 0.2838 - accuracy: 0.8967 - val_loss: 0.3473 - val_accuracy: 0.8771\n",
            "Epoch 99/100\n",
            "1313/1313 [==============================] - 5s 4ms/step - loss: 0.2849 - accuracy: 0.8994 - val_loss: 0.3536 - val_accuracy: 0.8758\n",
            "Epoch 100/100\n",
            "1313/1313 [==============================] - 5s 4ms/step - loss: 0.2831 - accuracy: 0.8966 - val_loss: 0.3478 - val_accuracy: 0.8762\n"
          ],
          "name": "stdout"
        },
        {
          "output_type": "execute_result",
          "data": {
            "text/plain": [
              "<tensorflow.python.keras.callbacks.History at 0x7fb6954182d0>"
            ]
          },
          "metadata": {
            "tags": []
          },
          "execution_count": 4
        }
      ]
    },
    {
      "cell_type": "code",
      "metadata": {
        "id": "O4joXE8_h22m"
      },
      "source": [
        "test_loss, test_acc = model.evaluate(test_images,  test_labels, verbose=2)\n",
        "\n",
        "print('\\nTest accuracy:', test_acc)"
      ],
      "execution_count": null,
      "outputs": []
    },
    {
      "cell_type": "code",
      "metadata": {
        "id": "h_o_ktG8cfM5"
      },
      "source": [
        "predictions = model.predict(test_images)"
      ],
      "execution_count": null,
      "outputs": []
    },
    {
      "cell_type": "code",
      "metadata": {
        "id": "K1Hw1Er-cgHZ",
        "colab": {
          "base_uri": "https://localhost:8080/"
        },
        "outputId": "c4fc1a61-89af-4103-e92f-67e8ebbfb4ad"
      },
      "source": [
        "np.argmax(predictions[0])"
      ],
      "execution_count": null,
      "outputs": [
        {
          "output_type": "execute_result",
          "data": {
            "text/plain": [
              "9"
            ]
          },
          "metadata": {
            "tags": []
          },
          "execution_count": 14
        }
      ]
    },
    {
      "cell_type": "code",
      "metadata": {
        "id": "cfMx-hfvAAed"
      },
      "source": [
        "import numpy as np\n",
        "\n",
        "def plot_image(i, predictions_array, true_label, img):\n",
        "  true_label, img = true_label[i], img[i]\n",
        "  plt.grid(False)\n",
        "  plt.xticks([])\n",
        "  plt.yticks([])\n",
        "\n",
        "  plt.imshow(img, cmap=plt.cm.binary)\n",
        "\n",
        "  predicted_label = np.argmax(predictions_array)\n",
        "  if predicted_label == true_label:\n",
        "    color = 'blue'\n",
        "  else:\n",
        "    color = 'red'\n",
        "\n",
        "  plt.xlabel(\"{} {:2.0f}% ({})\".format(class_names[predicted_label],\n",
        "                                100*np.max(predictions_array),\n",
        "                                class_names[true_label]),\n",
        "                                color=color)\n",
        "\n",
        "def plot_value_array(i, predictions_array, true_label):\n",
        "  true_label = true_label[i]\n",
        "  plt.grid(False)\n",
        "  plt.xticks(range(10))\n",
        "  plt.yticks([])\n",
        "  thisplot = plt.bar(range(10), predictions_array, color=\"#777777\")\n",
        "  plt.ylim([0, 1])\n",
        "  predicted_label = np.argmax(predictions_array)\n",
        "\n",
        "  thisplot[predicted_label].set_color('red')\n",
        "  thisplot[true_label].set_color('blue')"
      ],
      "execution_count": null,
      "outputs": []
    },
    {
      "cell_type": "code",
      "metadata": {
        "colab": {
          "base_uri": "https://localhost:8080/",
          "height": 211
        },
        "id": "LDiSf793AFgA",
        "outputId": "a60ab629-2b0d-43df-df1b-d392f96dddf7"
      },
      "source": [
        "i = 100\n",
        "plt.figure(figsize=(6,3))\n",
        "plt.subplot(1,2,1)\n",
        "plot_image(i, predictions[i], test_labels, test_images)\n",
        "plt.subplot(1,2,2)\n",
        "plot_value_array(i, predictions[i],  test_labels)\n",
        "plt.show()"
      ],
      "execution_count": null,
      "outputs": [
        {
          "output_type": "display_data",
          "data": {
            "image/png": "[encoded data removed]",
            "text/plain": [
              "<Figure size 432x216 with 2 Axes>"
            ]
          },
          "metadata": {
            "tags": [],
            "needs_background": "light"
          }
        }
      ]
    },
    {
      "cell_type": "code",
      "metadata": {
        "id": "7BkVVzQPDXDb"
      },
      "source": [
        ""
      ],
      "execution_count": null,
      "outputs": []
    }
  ]
}